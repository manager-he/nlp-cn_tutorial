{
 "cells": [
  {
   "cell_type": "code",
   "execution_count": null,
   "metadata": {},
   "outputs": [],
   "source": []
  },
  {
   "cell_type": "code",
   "execution_count": 2,
   "metadata": {},
   "outputs": [
    {
     "ename": "ValueError",
     "evalue": "Invalid model file 'C:\\\\Users\\\\何锦洋\\\\AppData\\\\Local\\\\Temp\\\\model_y53alru.crfsuite'",
     "output_type": "error",
     "traceback": [
      "\u001b[31m---------------------------------------------------------------------------\u001b[39m",
      "\u001b[31mValueError\u001b[39m                                Traceback (most recent call last)",
      "\u001b[36mCell\u001b[39m\u001b[36m \u001b[39m\u001b[32mIn[2]\u001b[39m\u001b[32m, line 48\u001b[39m\n\u001b[32m     45\u001b[39m     \u001b[38;5;28;01mreturn\u001b[39;00m crf.predict(X_test)[\u001b[32m0\u001b[39m]\n\u001b[32m     47\u001b[39m \u001b[38;5;28;01mfor\u001b[39;00m sentence \u001b[38;5;129;01min\u001b[39;00m test_data:\n\u001b[32m---> \u001b[39m\u001b[32m48\u001b[39m     labels = \u001b[43mpredict\u001b[49m\u001b[43m(\u001b[49m\u001b[43msentence\u001b[49m\u001b[43m)\u001b[49m\n\u001b[32m     49\u001b[39m     \u001b[38;5;28mprint\u001b[39m(\u001b[33mf\u001b[39m\u001b[33m\"\u001b[39m\u001b[33mInput: \u001b[39m\u001b[38;5;132;01m{\u001b[39;00m\u001b[33m'\u001b[39m\u001b[33m'\u001b[39m.join([word[\u001b[32m0\u001b[39m]\u001b[38;5;250m \u001b[39m\u001b[38;5;28;01mfor\u001b[39;00m\u001b[38;5;250m \u001b[39mword\u001b[38;5;250m \u001b[39m\u001b[38;5;129;01min\u001b[39;00m\u001b[38;5;250m \u001b[39msentence])\u001b[38;5;132;01m}\u001b[39;00m\u001b[33m - Labels: \u001b[39m\u001b[38;5;132;01m{\u001b[39;00mlabels\u001b[38;5;132;01m}\u001b[39;00m\u001b[33m\"\u001b[39m)\n",
      "\u001b[36mCell\u001b[39m\u001b[36m \u001b[39m\u001b[32mIn[2]\u001b[39m\u001b[32m, line 45\u001b[39m, in \u001b[36mpredict\u001b[39m\u001b[34m(sentence)\u001b[39m\n\u001b[32m     43\u001b[39m \u001b[38;5;28;01mdef\u001b[39;00m\u001b[38;5;250m \u001b[39m\u001b[34mpredict\u001b[39m(sentence):\n\u001b[32m     44\u001b[39m     X_test = [[extract_features(sentence, i) \u001b[38;5;28;01mfor\u001b[39;00m i \u001b[38;5;129;01min\u001b[39;00m \u001b[38;5;28mrange\u001b[39m(\u001b[38;5;28mlen\u001b[39m(sentence))]]\n\u001b[32m---> \u001b[39m\u001b[32m45\u001b[39m     \u001b[38;5;28;01mreturn\u001b[39;00m \u001b[43mcrf\u001b[49m\u001b[43m.\u001b[49m\u001b[43mpredict\u001b[49m\u001b[43m(\u001b[49m\u001b[43mX_test\u001b[49m\u001b[43m)\u001b[49m[\u001b[32m0\u001b[39m]\n",
      "\u001b[36mFile \u001b[39m\u001b[32me:\\Machine Learning\\nlp-cn_tutorial\\.venv\\Lib\\site-packages\\sklearn_crfsuite\\estimator.py:356\u001b[39m, in \u001b[36mCRF.predict\u001b[39m\u001b[34m(self, X)\u001b[39m\n\u001b[32m    341\u001b[39m \u001b[38;5;28;01mdef\u001b[39;00m\u001b[38;5;250m \u001b[39m\u001b[34mpredict\u001b[39m(\u001b[38;5;28mself\u001b[39m, X):\n\u001b[32m    342\u001b[39m \u001b[38;5;250m    \u001b[39m\u001b[33;03m\"\"\"\u001b[39;00m\n\u001b[32m    343\u001b[39m \u001b[33;03m    Make a prediction.\u001b[39;00m\n\u001b[32m    344\u001b[39m \n\u001b[32m   (...)\u001b[39m\u001b[32m    354\u001b[39m \n\u001b[32m    355\u001b[39m \u001b[33;03m    \"\"\"\u001b[39;00m\n\u001b[32m--> \u001b[39m\u001b[32m356\u001b[39m     \u001b[38;5;28;01mreturn\u001b[39;00m np.array(\u001b[38;5;28;43mlist\u001b[39;49m\u001b[43m(\u001b[49m\u001b[38;5;28;43mmap\u001b[39;49m\u001b[43m(\u001b[49m\u001b[38;5;28;43mself\u001b[39;49m\u001b[43m.\u001b[49m\u001b[43mpredict_single\u001b[49m\u001b[43m,\u001b[49m\u001b[43m \u001b[49m\u001b[43mX\u001b[49m\u001b[43m)\u001b[49m\u001b[43m)\u001b[49m, dtype=\u001b[38;5;28mobject\u001b[39m)\n",
      "\u001b[36mFile \u001b[39m\u001b[32me:\\Machine Learning\\nlp-cn_tutorial\\.venv\\Lib\\site-packages\\sklearn_crfsuite\\estimator.py:373\u001b[39m, in \u001b[36mCRF.predict_single\u001b[39m\u001b[34m(self, xseq)\u001b[39m\n\u001b[32m    358\u001b[39m \u001b[38;5;28;01mdef\u001b[39;00m\u001b[38;5;250m \u001b[39m\u001b[34mpredict_single\u001b[39m(\u001b[38;5;28mself\u001b[39m, xseq):\n\u001b[32m    359\u001b[39m \u001b[38;5;250m    \u001b[39m\u001b[33;03m\"\"\"\u001b[39;00m\n\u001b[32m    360\u001b[39m \u001b[33;03m    Make a prediction.\u001b[39;00m\n\u001b[32m    361\u001b[39m \n\u001b[32m   (...)\u001b[39m\u001b[32m    371\u001b[39m \n\u001b[32m    372\u001b[39m \u001b[33;03m    \"\"\"\u001b[39;00m\n\u001b[32m--> \u001b[39m\u001b[32m373\u001b[39m     \u001b[38;5;28;01mreturn\u001b[39;00m \u001b[38;5;28;43mself\u001b[39;49m\u001b[43m.\u001b[49m\u001b[43mtagger_\u001b[49m.tag(xseq)\n",
      "\u001b[36mFile \u001b[39m\u001b[32me:\\Machine Learning\\nlp-cn_tutorial\\.venv\\Lib\\site-packages\\sklearn_crfsuite\\estimator.py:435\u001b[39m, in \u001b[36mCRF.tagger_\u001b[39m\u001b[34m(self)\u001b[39m\n\u001b[32m    432\u001b[39m     \u001b[38;5;28;01mreturn\u001b[39;00m \u001b[38;5;28;01mNone\u001b[39;00m\n\u001b[32m    434\u001b[39m tagger = pycrfsuite.Tagger()\n\u001b[32m--> \u001b[39m\u001b[32m435\u001b[39m \u001b[43mtagger\u001b[49m\u001b[43m.\u001b[49m\u001b[43mopen\u001b[49m\u001b[43m(\u001b[49m\u001b[38;5;28;43mself\u001b[39;49m\u001b[43m.\u001b[49m\u001b[43mmodelfile\u001b[49m\u001b[43m.\u001b[49m\u001b[43mname\u001b[49m\u001b[43m)\u001b[49m\n\u001b[32m    436\u001b[39m \u001b[38;5;28mself\u001b[39m._tagger = tagger\n\u001b[32m    437\u001b[39m \u001b[38;5;28mself\u001b[39m._info_cached = \u001b[38;5;28;01mNone\u001b[39;00m\n",
      "\u001b[36mFile \u001b[39m\u001b[32me:\\Machine Learning\\nlp-cn_tutorial\\.venv\\Lib\\site-packages\\pycrfsuite\\_pycrfsuite.pyx:571\u001b[39m, in \u001b[36mpycrfsuite._pycrfsuite.Tagger.open\u001b[39m\u001b[34m()\u001b[39m\n",
      "\u001b[36mFile \u001b[39m\u001b[32me:\\Machine Learning\\nlp-cn_tutorial\\.venv\\Lib\\site-packages\\pycrfsuite\\_pycrfsuite.pyx:733\u001b[39m, in \u001b[36mpycrfsuite._pycrfsuite.Tagger._check_model\u001b[39m\u001b[34m()\u001b[39m\n",
      "\u001b[36mFile \u001b[39m\u001b[32me:\\Machine Learning\\nlp-cn_tutorial\\.venv\\Lib\\site-packages\\pycrfsuite\\_pycrfsuite.pyx:738\u001b[39m, in \u001b[36mpycrfsuite._pycrfsuite.Tagger._check_model\u001b[39m\u001b[34m()\u001b[39m\n",
      "\u001b[31mValueError\u001b[39m: Invalid model file 'C:\\\\Users\\\\何锦洋\\\\AppData\\\\Local\\\\Temp\\\\model_y53alru.crfsuite'"
     ]
    }
   ],
   "source": [
    "# 调库\n",
    "\n",
    "import sklearn_crfsuite\n",
    "\n",
    "# 数据准备\n",
    "train_data = [\n",
    "    [('我', 'B'), ('爱', 'I'), ('北京', 'B'), ('天安门', 'B'), ('。', 'S')],\n",
    "    [('你', 'B'), ('好', 'E'), ('！', 'S')],\n",
    "    [('今', 'B'), ('天天', 'B'), ('气', 'I'), ('温', 'E'), ('高', 'S')]\n",
    "]\n",
    "\n",
    "# 特征提取\n",
    "def extract_features(sentence, index):\n",
    "    features = {\n",
    "   \n",
    "        'word': sentence[index][0],\n",
    "        'prev_word': '' if index == 0 else sentence[index - 1][0],\n",
    "        'next_word': '' if index == len(sentence) - 1 else sentence[index + 1][0],\n",
    "        'is_start': index == 0,\n",
    "        'is_end': index == len(sentence) - 1,\n",
    "    }\n",
    "    return features\n",
    "\n",
    "def create_dataset(train_data):\n",
    "    X, y = [], []\n",
    "    for sentence in train_data:\n",
    "        X.append([extract_features(sentence, i) for i in range(len(sentence))])\n",
    "        y.append([label for _, label in sentence])\n",
    "    return X, y\n",
    "\n",
    "X_train, y_train = create_dataset(train_data)\n",
    "\n",
    "# 训练CRF模型\n",
    "crf = sklearn_crfsuite.CRF(algorithm='lbfgs', max_iterations=100)\n",
    "crf.fit(X_train, y_train)\n",
    "\n",
    "# 测试\n",
    "test_data = [\n",
    "    [('我',), ('喜欢',), ('学习',)],\n",
    "    [('春',), ('天',), ('花',), ('开',)]\n",
    "]\n",
    "\n",
    "def predict(sentence):\n",
    "    X_test = [[extract_features(sentence, i) for i in range(len(sentence))]]\n",
    "    return crf.predict(X_test)[0]\n",
    "\n",
    "for sentence in test_data:\n",
    "    labels = predict(sentence)\n",
    "    print(f\"Input: {''.join([word[0] for word in sentence])} - Labels: {labels}\")\n"
   ]
  },
  {
   "cell_type": "code",
   "execution_count": null,
   "metadata": {},
   "outputs": [],
   "source": []
  }
 ],
 "metadata": {
  "kernelspec": {
   "display_name": ".venv",
   "language": "python",
   "name": "python3"
  },
  "language_info": {
   "codemirror_mode": {
    "name": "ipython",
    "version": 3
   },
   "file_extension": ".py",
   "mimetype": "text/x-python",
   "name": "python",
   "nbconvert_exporter": "python",
   "pygments_lexer": "ipython3",
   "version": "3.12.5"
  }
 },
 "nbformat": 4,
 "nbformat_minor": 2
}
